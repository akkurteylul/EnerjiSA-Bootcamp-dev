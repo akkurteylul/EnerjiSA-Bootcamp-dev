{
 "cells": [
  {
   "cell_type": "code",
   "execution_count": 8,
   "metadata": {},
   "outputs": [],
   "source": [
    "import pandas as pd\n",
    "import numpy as np"
   ]
  },
  {
   "cell_type": "markdown",
   "metadata": {},
   "source": [
    "### 1-) Pandas kütüphanesiyle bir DataFrame oluşturup ve içine Levels of Measurements'ları nominal, ordinal, interval ve ratio olan kolonlar ekleyelim."
   ]
  },
  {
   "cell_type": "code",
   "execution_count": 8,
   "metadata": {},
   "outputs": [
    {
     "data": {
      "text/html": [
       "<div>\n",
       "<style scoped>\n",
       "    .dataframe tbody tr th:only-of-type {\n",
       "        vertical-align: middle;\n",
       "    }\n",
       "\n",
       "    .dataframe tbody tr th {\n",
       "        vertical-align: top;\n",
       "    }\n",
       "\n",
       "    .dataframe thead th {\n",
       "        text-align: right;\n",
       "    }\n",
       "</style>\n",
       "<table border=\"1\" class=\"dataframe\">\n",
       "  <thead>\n",
       "    <tr style=\"text-align: right;\">\n",
       "      <th></th>\n",
       "      <th>İsim</th>\n",
       "      <th>Cinsiyet</th>\n",
       "      <th>Eğitim</th>\n",
       "      <th>Maaş</th>\n",
       "      <th>IQ</th>\n",
       "    </tr>\n",
       "  </thead>\n",
       "  <tbody>\n",
       "    <tr>\n",
       "      <th>0</th>\n",
       "      <td>Ali</td>\n",
       "      <td>E</td>\n",
       "      <td>Lisans</td>\n",
       "      <td>3500</td>\n",
       "      <td>110</td>\n",
       "    </tr>\n",
       "    <tr>\n",
       "      <th>1</th>\n",
       "      <td>Ayşe</td>\n",
       "      <td>K</td>\n",
       "      <td>Lisans</td>\n",
       "      <td>4000</td>\n",
       "      <td>110</td>\n",
       "    </tr>\n",
       "    <tr>\n",
       "      <th>2</th>\n",
       "      <td>Fatma</td>\n",
       "      <td>K</td>\n",
       "      <td>Yüksek Lisans</td>\n",
       "      <td>4500</td>\n",
       "      <td>115</td>\n",
       "    </tr>\n",
       "    <tr>\n",
       "      <th>3</th>\n",
       "      <td>Ahmet</td>\n",
       "      <td>E</td>\n",
       "      <td>Doktora</td>\n",
       "      <td>5500</td>\n",
       "      <td>118</td>\n",
       "    </tr>\n",
       "  </tbody>\n",
       "</table>\n",
       "</div>"
      ],
      "text/plain": [
       "    İsim Cinsiyet         Eğitim  Maaş   IQ\n",
       "0    Ali        E         Lisans  3500  110\n",
       "1   Ayşe        K         Lisans  4000  110\n",
       "2  Fatma        K  Yüksek Lisans  4500  115\n",
       "3  Ahmet        E        Doktora  5500  118"
      ]
     },
     "execution_count": 8,
     "metadata": {},
     "output_type": "execute_result"
    }
   ],
   "source": [
    "data={\"İsim\": [\"Ali\",\"Ayşe\",\"Fatma\",\"Ahmet\"],\n",
    "     \"Cinsiyet\": [\"E\",\"K\",\"K\",\"E\"],\n",
    "     \"Eğitim\":[\"Lisans\",\"Lisans\",\"Yüksek Lisans\",\"Doktora\"],\n",
    "     \"Maaş\": [3500,4000,4500,5500],\n",
    "     \"IQ\": [110,110,115,118]}\n",
    "df=pd.DataFrame(data)\n",
    "df"
   ]
  },
  {
   "cell_type": "markdown",
   "metadata": {},
   "source": [
    "### 2-) Ekli data üzerindeki aşağıda yer alan kolonların count, mean, std, min, 25%, 50%, 75%, max değerlerini ve IQR metoduyla outlier kalan veri sayısını çıkartıp, bu değerleri sözel ve karşılaştırmalı olarak yorumlayalım. "
   ]
  },
  {
   "cell_type": "markdown",
   "metadata": {},
   "source": [
    "#### Kolonlar : radius_mean, area_mean, compactness_mean"
   ]
  },
  {
   "cell_type": "code",
   "execution_count": 11,
   "metadata": {},
   "outputs": [],
   "source": [
    "data = pd.read_csv(\"data.csv\", index_col=0)"
   ]
  },
  {
   "cell_type": "code",
   "execution_count": 12,
   "metadata": {},
   "outputs": [
    {
     "data": {
      "text/html": [
       "<div>\n",
       "<style scoped>\n",
       "    .dataframe tbody tr th:only-of-type {\n",
       "        vertical-align: middle;\n",
       "    }\n",
       "\n",
       "    .dataframe tbody tr th {\n",
       "        vertical-align: top;\n",
       "    }\n",
       "\n",
       "    .dataframe thead th {\n",
       "        text-align: right;\n",
       "    }\n",
       "</style>\n",
       "<table border=\"1\" class=\"dataframe\">\n",
       "  <thead>\n",
       "    <tr style=\"text-align: right;\">\n",
       "      <th></th>\n",
       "      <th>diagnosis</th>\n",
       "      <th>radius_mean</th>\n",
       "      <th>texture_mean</th>\n",
       "      <th>perimeter_mean</th>\n",
       "      <th>area_mean</th>\n",
       "      <th>smoothness_mean</th>\n",
       "      <th>compactness_mean</th>\n",
       "      <th>concavity_mean</th>\n",
       "      <th>concave points_mean</th>\n",
       "      <th>symmetry_mean</th>\n",
       "      <th>...</th>\n",
       "      <th>texture_worst</th>\n",
       "      <th>perimeter_worst</th>\n",
       "      <th>area_worst</th>\n",
       "      <th>smoothness_worst</th>\n",
       "      <th>compactness_worst</th>\n",
       "      <th>concavity_worst</th>\n",
       "      <th>concave points_worst</th>\n",
       "      <th>symmetry_worst</th>\n",
       "      <th>fractal_dimension_worst</th>\n",
       "      <th>Unnamed: 32</th>\n",
       "    </tr>\n",
       "    <tr>\n",
       "      <th>id</th>\n",
       "      <th></th>\n",
       "      <th></th>\n",
       "      <th></th>\n",
       "      <th></th>\n",
       "      <th></th>\n",
       "      <th></th>\n",
       "      <th></th>\n",
       "      <th></th>\n",
       "      <th></th>\n",
       "      <th></th>\n",
       "      <th></th>\n",
       "      <th></th>\n",
       "      <th></th>\n",
       "      <th></th>\n",
       "      <th></th>\n",
       "      <th></th>\n",
       "      <th></th>\n",
       "      <th></th>\n",
       "      <th></th>\n",
       "      <th></th>\n",
       "      <th></th>\n",
       "    </tr>\n",
       "  </thead>\n",
       "  <tbody>\n",
       "    <tr>\n",
       "      <th>842302</th>\n",
       "      <td>M</td>\n",
       "      <td>17.99</td>\n",
       "      <td>10.38</td>\n",
       "      <td>122.80</td>\n",
       "      <td>1001.0</td>\n",
       "      <td>0.11840</td>\n",
       "      <td>0.27760</td>\n",
       "      <td>0.3001</td>\n",
       "      <td>0.14710</td>\n",
       "      <td>0.2419</td>\n",
       "      <td>...</td>\n",
       "      <td>17.33</td>\n",
       "      <td>184.60</td>\n",
       "      <td>2019.0</td>\n",
       "      <td>0.1622</td>\n",
       "      <td>0.6656</td>\n",
       "      <td>0.7119</td>\n",
       "      <td>0.2654</td>\n",
       "      <td>0.4601</td>\n",
       "      <td>0.11890</td>\n",
       "      <td>NaN</td>\n",
       "    </tr>\n",
       "    <tr>\n",
       "      <th>842517</th>\n",
       "      <td>M</td>\n",
       "      <td>20.57</td>\n",
       "      <td>17.77</td>\n",
       "      <td>132.90</td>\n",
       "      <td>1326.0</td>\n",
       "      <td>0.08474</td>\n",
       "      <td>0.07864</td>\n",
       "      <td>0.0869</td>\n",
       "      <td>0.07017</td>\n",
       "      <td>0.1812</td>\n",
       "      <td>...</td>\n",
       "      <td>23.41</td>\n",
       "      <td>158.80</td>\n",
       "      <td>1956.0</td>\n",
       "      <td>0.1238</td>\n",
       "      <td>0.1866</td>\n",
       "      <td>0.2416</td>\n",
       "      <td>0.1860</td>\n",
       "      <td>0.2750</td>\n",
       "      <td>0.08902</td>\n",
       "      <td>NaN</td>\n",
       "    </tr>\n",
       "    <tr>\n",
       "      <th>84300903</th>\n",
       "      <td>M</td>\n",
       "      <td>19.69</td>\n",
       "      <td>21.25</td>\n",
       "      <td>130.00</td>\n",
       "      <td>1203.0</td>\n",
       "      <td>0.10960</td>\n",
       "      <td>0.15990</td>\n",
       "      <td>0.1974</td>\n",
       "      <td>0.12790</td>\n",
       "      <td>0.2069</td>\n",
       "      <td>...</td>\n",
       "      <td>25.53</td>\n",
       "      <td>152.50</td>\n",
       "      <td>1709.0</td>\n",
       "      <td>0.1444</td>\n",
       "      <td>0.4245</td>\n",
       "      <td>0.4504</td>\n",
       "      <td>0.2430</td>\n",
       "      <td>0.3613</td>\n",
       "      <td>0.08758</td>\n",
       "      <td>NaN</td>\n",
       "    </tr>\n",
       "    <tr>\n",
       "      <th>84348301</th>\n",
       "      <td>M</td>\n",
       "      <td>11.42</td>\n",
       "      <td>20.38</td>\n",
       "      <td>77.58</td>\n",
       "      <td>386.1</td>\n",
       "      <td>0.14250</td>\n",
       "      <td>0.28390</td>\n",
       "      <td>0.2414</td>\n",
       "      <td>0.10520</td>\n",
       "      <td>0.2597</td>\n",
       "      <td>...</td>\n",
       "      <td>26.50</td>\n",
       "      <td>98.87</td>\n",
       "      <td>567.7</td>\n",
       "      <td>0.2098</td>\n",
       "      <td>0.8663</td>\n",
       "      <td>0.6869</td>\n",
       "      <td>0.2575</td>\n",
       "      <td>0.6638</td>\n",
       "      <td>0.17300</td>\n",
       "      <td>NaN</td>\n",
       "    </tr>\n",
       "    <tr>\n",
       "      <th>84358402</th>\n",
       "      <td>M</td>\n",
       "      <td>20.29</td>\n",
       "      <td>14.34</td>\n",
       "      <td>135.10</td>\n",
       "      <td>1297.0</td>\n",
       "      <td>0.10030</td>\n",
       "      <td>0.13280</td>\n",
       "      <td>0.1980</td>\n",
       "      <td>0.10430</td>\n",
       "      <td>0.1809</td>\n",
       "      <td>...</td>\n",
       "      <td>16.67</td>\n",
       "      <td>152.20</td>\n",
       "      <td>1575.0</td>\n",
       "      <td>0.1374</td>\n",
       "      <td>0.2050</td>\n",
       "      <td>0.4000</td>\n",
       "      <td>0.1625</td>\n",
       "      <td>0.2364</td>\n",
       "      <td>0.07678</td>\n",
       "      <td>NaN</td>\n",
       "    </tr>\n",
       "  </tbody>\n",
       "</table>\n",
       "<p>5 rows × 32 columns</p>\n",
       "</div>"
      ],
      "text/plain": [
       "         diagnosis  radius_mean  texture_mean  perimeter_mean  area_mean  \\\n",
       "id                                                                         \n",
       "842302           M        17.99         10.38          122.80     1001.0   \n",
       "842517           M        20.57         17.77          132.90     1326.0   \n",
       "84300903         M        19.69         21.25          130.00     1203.0   \n",
       "84348301         M        11.42         20.38           77.58      386.1   \n",
       "84358402         M        20.29         14.34          135.10     1297.0   \n",
       "\n",
       "          smoothness_mean  compactness_mean  concavity_mean  \\\n",
       "id                                                            \n",
       "842302            0.11840           0.27760          0.3001   \n",
       "842517            0.08474           0.07864          0.0869   \n",
       "84300903          0.10960           0.15990          0.1974   \n",
       "84348301          0.14250           0.28390          0.2414   \n",
       "84358402          0.10030           0.13280          0.1980   \n",
       "\n",
       "          concave points_mean  symmetry_mean  ...  texture_worst  \\\n",
       "id                                            ...                  \n",
       "842302                0.14710         0.2419  ...          17.33   \n",
       "842517                0.07017         0.1812  ...          23.41   \n",
       "84300903              0.12790         0.2069  ...          25.53   \n",
       "84348301              0.10520         0.2597  ...          26.50   \n",
       "84358402              0.10430         0.1809  ...          16.67   \n",
       "\n",
       "          perimeter_worst  area_worst  smoothness_worst  compactness_worst  \\\n",
       "id                                                                           \n",
       "842302             184.60      2019.0            0.1622             0.6656   \n",
       "842517             158.80      1956.0            0.1238             0.1866   \n",
       "84300903           152.50      1709.0            0.1444             0.4245   \n",
       "84348301            98.87       567.7            0.2098             0.8663   \n",
       "84358402           152.20      1575.0            0.1374             0.2050   \n",
       "\n",
       "          concavity_worst  concave points_worst  symmetry_worst  \\\n",
       "id                                                                \n",
       "842302             0.7119                0.2654          0.4601   \n",
       "842517             0.2416                0.1860          0.2750   \n",
       "84300903           0.4504                0.2430          0.3613   \n",
       "84348301           0.6869                0.2575          0.6638   \n",
       "84358402           0.4000                0.1625          0.2364   \n",
       "\n",
       "          fractal_dimension_worst  Unnamed: 32  \n",
       "id                                              \n",
       "842302                    0.11890          NaN  \n",
       "842517                    0.08902          NaN  \n",
       "84300903                  0.08758          NaN  \n",
       "84348301                  0.17300          NaN  \n",
       "84358402                  0.07678          NaN  \n",
       "\n",
       "[5 rows x 32 columns]"
      ]
     },
     "execution_count": 12,
     "metadata": {},
     "output_type": "execute_result"
    }
   ],
   "source": [
    "data.head()"
   ]
  },
  {
   "cell_type": "code",
   "execution_count": 41,
   "metadata": {
    "scrolled": true
   },
   "outputs": [
    {
     "data": {
      "text/html": [
       "<div>\n",
       "<style scoped>\n",
       "    .dataframe tbody tr th:only-of-type {\n",
       "        vertical-align: middle;\n",
       "    }\n",
       "\n",
       "    .dataframe tbody tr th {\n",
       "        vertical-align: top;\n",
       "    }\n",
       "\n",
       "    .dataframe thead th {\n",
       "        text-align: right;\n",
       "    }\n",
       "</style>\n",
       "<table border=\"1\" class=\"dataframe\">\n",
       "  <thead>\n",
       "    <tr style=\"text-align: right;\">\n",
       "      <th></th>\n",
       "      <th>count</th>\n",
       "      <th>mean</th>\n",
       "      <th>std</th>\n",
       "      <th>min</th>\n",
       "      <th>25%</th>\n",
       "      <th>50%</th>\n",
       "      <th>75%</th>\n",
       "      <th>max</th>\n",
       "    </tr>\n",
       "  </thead>\n",
       "  <tbody>\n",
       "    <tr>\n",
       "      <th>radius_mean</th>\n",
       "      <td>569.0</td>\n",
       "      <td>14.127292</td>\n",
       "      <td>3.524049</td>\n",
       "      <td>6.981000</td>\n",
       "      <td>11.700000</td>\n",
       "      <td>13.370000</td>\n",
       "      <td>15.780000</td>\n",
       "      <td>28.11000</td>\n",
       "    </tr>\n",
       "    <tr>\n",
       "      <th>texture_mean</th>\n",
       "      <td>569.0</td>\n",
       "      <td>19.289649</td>\n",
       "      <td>4.301036</td>\n",
       "      <td>9.710000</td>\n",
       "      <td>16.170000</td>\n",
       "      <td>18.840000</td>\n",
       "      <td>21.800000</td>\n",
       "      <td>39.28000</td>\n",
       "    </tr>\n",
       "    <tr>\n",
       "      <th>perimeter_mean</th>\n",
       "      <td>569.0</td>\n",
       "      <td>91.969033</td>\n",
       "      <td>24.298981</td>\n",
       "      <td>43.790000</td>\n",
       "      <td>75.170000</td>\n",
       "      <td>86.240000</td>\n",
       "      <td>104.100000</td>\n",
       "      <td>188.50000</td>\n",
       "    </tr>\n",
       "    <tr>\n",
       "      <th>area_mean</th>\n",
       "      <td>569.0</td>\n",
       "      <td>654.889104</td>\n",
       "      <td>351.914129</td>\n",
       "      <td>143.500000</td>\n",
       "      <td>420.300000</td>\n",
       "      <td>551.100000</td>\n",
       "      <td>782.700000</td>\n",
       "      <td>2501.00000</td>\n",
       "    </tr>\n",
       "    <tr>\n",
       "      <th>smoothness_mean</th>\n",
       "      <td>569.0</td>\n",
       "      <td>0.096360</td>\n",
       "      <td>0.014064</td>\n",
       "      <td>0.052630</td>\n",
       "      <td>0.086370</td>\n",
       "      <td>0.095870</td>\n",
       "      <td>0.105300</td>\n",
       "      <td>0.16340</td>\n",
       "    </tr>\n",
       "    <tr>\n",
       "      <th>compactness_mean</th>\n",
       "      <td>569.0</td>\n",
       "      <td>0.104341</td>\n",
       "      <td>0.052813</td>\n",
       "      <td>0.019380</td>\n",
       "      <td>0.064920</td>\n",
       "      <td>0.092630</td>\n",
       "      <td>0.130400</td>\n",
       "      <td>0.34540</td>\n",
       "    </tr>\n",
       "    <tr>\n",
       "      <th>concavity_mean</th>\n",
       "      <td>569.0</td>\n",
       "      <td>0.088799</td>\n",
       "      <td>0.079720</td>\n",
       "      <td>0.000000</td>\n",
       "      <td>0.029560</td>\n",
       "      <td>0.061540</td>\n",
       "      <td>0.130700</td>\n",
       "      <td>0.42680</td>\n",
       "    </tr>\n",
       "    <tr>\n",
       "      <th>concave points_mean</th>\n",
       "      <td>569.0</td>\n",
       "      <td>0.048919</td>\n",
       "      <td>0.038803</td>\n",
       "      <td>0.000000</td>\n",
       "      <td>0.020310</td>\n",
       "      <td>0.033500</td>\n",
       "      <td>0.074000</td>\n",
       "      <td>0.20120</td>\n",
       "    </tr>\n",
       "    <tr>\n",
       "      <th>symmetry_mean</th>\n",
       "      <td>569.0</td>\n",
       "      <td>0.181162</td>\n",
       "      <td>0.027414</td>\n",
       "      <td>0.106000</td>\n",
       "      <td>0.161900</td>\n",
       "      <td>0.179200</td>\n",
       "      <td>0.195700</td>\n",
       "      <td>0.30400</td>\n",
       "    </tr>\n",
       "    <tr>\n",
       "      <th>fractal_dimension_mean</th>\n",
       "      <td>569.0</td>\n",
       "      <td>0.062798</td>\n",
       "      <td>0.007060</td>\n",
       "      <td>0.049960</td>\n",
       "      <td>0.057700</td>\n",
       "      <td>0.061540</td>\n",
       "      <td>0.066120</td>\n",
       "      <td>0.09744</td>\n",
       "    </tr>\n",
       "    <tr>\n",
       "      <th>radius_se</th>\n",
       "      <td>569.0</td>\n",
       "      <td>0.405172</td>\n",
       "      <td>0.277313</td>\n",
       "      <td>0.111500</td>\n",
       "      <td>0.232400</td>\n",
       "      <td>0.324200</td>\n",
       "      <td>0.478900</td>\n",
       "      <td>2.87300</td>\n",
       "    </tr>\n",
       "    <tr>\n",
       "      <th>texture_se</th>\n",
       "      <td>569.0</td>\n",
       "      <td>1.216853</td>\n",
       "      <td>0.551648</td>\n",
       "      <td>0.360200</td>\n",
       "      <td>0.833900</td>\n",
       "      <td>1.108000</td>\n",
       "      <td>1.474000</td>\n",
       "      <td>4.88500</td>\n",
       "    </tr>\n",
       "    <tr>\n",
       "      <th>perimeter_se</th>\n",
       "      <td>569.0</td>\n",
       "      <td>2.866059</td>\n",
       "      <td>2.021855</td>\n",
       "      <td>0.757000</td>\n",
       "      <td>1.606000</td>\n",
       "      <td>2.287000</td>\n",
       "      <td>3.357000</td>\n",
       "      <td>21.98000</td>\n",
       "    </tr>\n",
       "    <tr>\n",
       "      <th>area_se</th>\n",
       "      <td>569.0</td>\n",
       "      <td>40.337079</td>\n",
       "      <td>45.491006</td>\n",
       "      <td>6.802000</td>\n",
       "      <td>17.850000</td>\n",
       "      <td>24.530000</td>\n",
       "      <td>45.190000</td>\n",
       "      <td>542.20000</td>\n",
       "    </tr>\n",
       "    <tr>\n",
       "      <th>smoothness_se</th>\n",
       "      <td>569.0</td>\n",
       "      <td>0.007041</td>\n",
       "      <td>0.003003</td>\n",
       "      <td>0.001713</td>\n",
       "      <td>0.005169</td>\n",
       "      <td>0.006380</td>\n",
       "      <td>0.008146</td>\n",
       "      <td>0.03113</td>\n",
       "    </tr>\n",
       "    <tr>\n",
       "      <th>compactness_se</th>\n",
       "      <td>569.0</td>\n",
       "      <td>0.025478</td>\n",
       "      <td>0.017908</td>\n",
       "      <td>0.002252</td>\n",
       "      <td>0.013080</td>\n",
       "      <td>0.020450</td>\n",
       "      <td>0.032450</td>\n",
       "      <td>0.13540</td>\n",
       "    </tr>\n",
       "    <tr>\n",
       "      <th>concavity_se</th>\n",
       "      <td>569.0</td>\n",
       "      <td>0.031894</td>\n",
       "      <td>0.030186</td>\n",
       "      <td>0.000000</td>\n",
       "      <td>0.015090</td>\n",
       "      <td>0.025890</td>\n",
       "      <td>0.042050</td>\n",
       "      <td>0.39600</td>\n",
       "    </tr>\n",
       "    <tr>\n",
       "      <th>concave points_se</th>\n",
       "      <td>569.0</td>\n",
       "      <td>0.011796</td>\n",
       "      <td>0.006170</td>\n",
       "      <td>0.000000</td>\n",
       "      <td>0.007638</td>\n",
       "      <td>0.010930</td>\n",
       "      <td>0.014710</td>\n",
       "      <td>0.05279</td>\n",
       "    </tr>\n",
       "    <tr>\n",
       "      <th>symmetry_se</th>\n",
       "      <td>569.0</td>\n",
       "      <td>0.020542</td>\n",
       "      <td>0.008266</td>\n",
       "      <td>0.007882</td>\n",
       "      <td>0.015160</td>\n",
       "      <td>0.018730</td>\n",
       "      <td>0.023480</td>\n",
       "      <td>0.07895</td>\n",
       "    </tr>\n",
       "    <tr>\n",
       "      <th>fractal_dimension_se</th>\n",
       "      <td>569.0</td>\n",
       "      <td>0.003795</td>\n",
       "      <td>0.002646</td>\n",
       "      <td>0.000895</td>\n",
       "      <td>0.002248</td>\n",
       "      <td>0.003187</td>\n",
       "      <td>0.004558</td>\n",
       "      <td>0.02984</td>\n",
       "    </tr>\n",
       "    <tr>\n",
       "      <th>radius_worst</th>\n",
       "      <td>569.0</td>\n",
       "      <td>16.269190</td>\n",
       "      <td>4.833242</td>\n",
       "      <td>7.930000</td>\n",
       "      <td>13.010000</td>\n",
       "      <td>14.970000</td>\n",
       "      <td>18.790000</td>\n",
       "      <td>36.04000</td>\n",
       "    </tr>\n",
       "    <tr>\n",
       "      <th>texture_worst</th>\n",
       "      <td>569.0</td>\n",
       "      <td>25.677223</td>\n",
       "      <td>6.146258</td>\n",
       "      <td>12.020000</td>\n",
       "      <td>21.080000</td>\n",
       "      <td>25.410000</td>\n",
       "      <td>29.720000</td>\n",
       "      <td>49.54000</td>\n",
       "    </tr>\n",
       "    <tr>\n",
       "      <th>perimeter_worst</th>\n",
       "      <td>569.0</td>\n",
       "      <td>107.261213</td>\n",
       "      <td>33.602542</td>\n",
       "      <td>50.410000</td>\n",
       "      <td>84.110000</td>\n",
       "      <td>97.660000</td>\n",
       "      <td>125.400000</td>\n",
       "      <td>251.20000</td>\n",
       "    </tr>\n",
       "    <tr>\n",
       "      <th>area_worst</th>\n",
       "      <td>569.0</td>\n",
       "      <td>880.583128</td>\n",
       "      <td>569.356993</td>\n",
       "      <td>185.200000</td>\n",
       "      <td>515.300000</td>\n",
       "      <td>686.500000</td>\n",
       "      <td>1084.000000</td>\n",
       "      <td>4254.00000</td>\n",
       "    </tr>\n",
       "    <tr>\n",
       "      <th>smoothness_worst</th>\n",
       "      <td>569.0</td>\n",
       "      <td>0.132369</td>\n",
       "      <td>0.022832</td>\n",
       "      <td>0.071170</td>\n",
       "      <td>0.116600</td>\n",
       "      <td>0.131300</td>\n",
       "      <td>0.146000</td>\n",
       "      <td>0.22260</td>\n",
       "    </tr>\n",
       "    <tr>\n",
       "      <th>compactness_worst</th>\n",
       "      <td>569.0</td>\n",
       "      <td>0.254265</td>\n",
       "      <td>0.157336</td>\n",
       "      <td>0.027290</td>\n",
       "      <td>0.147200</td>\n",
       "      <td>0.211900</td>\n",
       "      <td>0.339100</td>\n",
       "      <td>1.05800</td>\n",
       "    </tr>\n",
       "    <tr>\n",
       "      <th>concavity_worst</th>\n",
       "      <td>569.0</td>\n",
       "      <td>0.272188</td>\n",
       "      <td>0.208624</td>\n",
       "      <td>0.000000</td>\n",
       "      <td>0.114500</td>\n",
       "      <td>0.226700</td>\n",
       "      <td>0.382900</td>\n",
       "      <td>1.25200</td>\n",
       "    </tr>\n",
       "    <tr>\n",
       "      <th>concave points_worst</th>\n",
       "      <td>569.0</td>\n",
       "      <td>0.114606</td>\n",
       "      <td>0.065732</td>\n",
       "      <td>0.000000</td>\n",
       "      <td>0.064930</td>\n",
       "      <td>0.099930</td>\n",
       "      <td>0.161400</td>\n",
       "      <td>0.29100</td>\n",
       "    </tr>\n",
       "    <tr>\n",
       "      <th>symmetry_worst</th>\n",
       "      <td>569.0</td>\n",
       "      <td>0.290076</td>\n",
       "      <td>0.061867</td>\n",
       "      <td>0.156500</td>\n",
       "      <td>0.250400</td>\n",
       "      <td>0.282200</td>\n",
       "      <td>0.317900</td>\n",
       "      <td>0.66380</td>\n",
       "    </tr>\n",
       "    <tr>\n",
       "      <th>fractal_dimension_worst</th>\n",
       "      <td>569.0</td>\n",
       "      <td>0.083946</td>\n",
       "      <td>0.018061</td>\n",
       "      <td>0.055040</td>\n",
       "      <td>0.071460</td>\n",
       "      <td>0.080040</td>\n",
       "      <td>0.092080</td>\n",
       "      <td>0.20750</td>\n",
       "    </tr>\n",
       "    <tr>\n",
       "      <th>Unnamed: 32</th>\n",
       "      <td>0.0</td>\n",
       "      <td>NaN</td>\n",
       "      <td>NaN</td>\n",
       "      <td>NaN</td>\n",
       "      <td>NaN</td>\n",
       "      <td>NaN</td>\n",
       "      <td>NaN</td>\n",
       "      <td>NaN</td>\n",
       "    </tr>\n",
       "  </tbody>\n",
       "</table>\n",
       "</div>"
      ],
      "text/plain": [
       "                         count        mean         std         min  \\\n",
       "radius_mean              569.0   14.127292    3.524049    6.981000   \n",
       "texture_mean             569.0   19.289649    4.301036    9.710000   \n",
       "perimeter_mean           569.0   91.969033   24.298981   43.790000   \n",
       "area_mean                569.0  654.889104  351.914129  143.500000   \n",
       "smoothness_mean          569.0    0.096360    0.014064    0.052630   \n",
       "compactness_mean         569.0    0.104341    0.052813    0.019380   \n",
       "concavity_mean           569.0    0.088799    0.079720    0.000000   \n",
       "concave points_mean      569.0    0.048919    0.038803    0.000000   \n",
       "symmetry_mean            569.0    0.181162    0.027414    0.106000   \n",
       "fractal_dimension_mean   569.0    0.062798    0.007060    0.049960   \n",
       "radius_se                569.0    0.405172    0.277313    0.111500   \n",
       "texture_se               569.0    1.216853    0.551648    0.360200   \n",
       "perimeter_se             569.0    2.866059    2.021855    0.757000   \n",
       "area_se                  569.0   40.337079   45.491006    6.802000   \n",
       "smoothness_se            569.0    0.007041    0.003003    0.001713   \n",
       "compactness_se           569.0    0.025478    0.017908    0.002252   \n",
       "concavity_se             569.0    0.031894    0.030186    0.000000   \n",
       "concave points_se        569.0    0.011796    0.006170    0.000000   \n",
       "symmetry_se              569.0    0.020542    0.008266    0.007882   \n",
       "fractal_dimension_se     569.0    0.003795    0.002646    0.000895   \n",
       "radius_worst             569.0   16.269190    4.833242    7.930000   \n",
       "texture_worst            569.0   25.677223    6.146258   12.020000   \n",
       "perimeter_worst          569.0  107.261213   33.602542   50.410000   \n",
       "area_worst               569.0  880.583128  569.356993  185.200000   \n",
       "smoothness_worst         569.0    0.132369    0.022832    0.071170   \n",
       "compactness_worst        569.0    0.254265    0.157336    0.027290   \n",
       "concavity_worst          569.0    0.272188    0.208624    0.000000   \n",
       "concave points_worst     569.0    0.114606    0.065732    0.000000   \n",
       "symmetry_worst           569.0    0.290076    0.061867    0.156500   \n",
       "fractal_dimension_worst  569.0    0.083946    0.018061    0.055040   \n",
       "Unnamed: 32                0.0         NaN         NaN         NaN   \n",
       "\n",
       "                                25%         50%          75%         max  \n",
       "radius_mean               11.700000   13.370000    15.780000    28.11000  \n",
       "texture_mean              16.170000   18.840000    21.800000    39.28000  \n",
       "perimeter_mean            75.170000   86.240000   104.100000   188.50000  \n",
       "area_mean                420.300000  551.100000   782.700000  2501.00000  \n",
       "smoothness_mean            0.086370    0.095870     0.105300     0.16340  \n",
       "compactness_mean           0.064920    0.092630     0.130400     0.34540  \n",
       "concavity_mean             0.029560    0.061540     0.130700     0.42680  \n",
       "concave points_mean        0.020310    0.033500     0.074000     0.20120  \n",
       "symmetry_mean              0.161900    0.179200     0.195700     0.30400  \n",
       "fractal_dimension_mean     0.057700    0.061540     0.066120     0.09744  \n",
       "radius_se                  0.232400    0.324200     0.478900     2.87300  \n",
       "texture_se                 0.833900    1.108000     1.474000     4.88500  \n",
       "perimeter_se               1.606000    2.287000     3.357000    21.98000  \n",
       "area_se                   17.850000   24.530000    45.190000   542.20000  \n",
       "smoothness_se              0.005169    0.006380     0.008146     0.03113  \n",
       "compactness_se             0.013080    0.020450     0.032450     0.13540  \n",
       "concavity_se               0.015090    0.025890     0.042050     0.39600  \n",
       "concave points_se          0.007638    0.010930     0.014710     0.05279  \n",
       "symmetry_se                0.015160    0.018730     0.023480     0.07895  \n",
       "fractal_dimension_se       0.002248    0.003187     0.004558     0.02984  \n",
       "radius_worst              13.010000   14.970000    18.790000    36.04000  \n",
       "texture_worst             21.080000   25.410000    29.720000    49.54000  \n",
       "perimeter_worst           84.110000   97.660000   125.400000   251.20000  \n",
       "area_worst               515.300000  686.500000  1084.000000  4254.00000  \n",
       "smoothness_worst           0.116600    0.131300     0.146000     0.22260  \n",
       "compactness_worst          0.147200    0.211900     0.339100     1.05800  \n",
       "concavity_worst            0.114500    0.226700     0.382900     1.25200  \n",
       "concave points_worst       0.064930    0.099930     0.161400     0.29100  \n",
       "symmetry_worst             0.250400    0.282200     0.317900     0.66380  \n",
       "fractal_dimension_worst    0.071460    0.080040     0.092080     0.20750  \n",
       "Unnamed: 32                     NaN         NaN          NaN         NaN  "
      ]
     },
     "execution_count": 41,
     "metadata": {},
     "output_type": "execute_result"
    }
   ],
   "source": [
    "data.describe().T"
   ]
  },
  {
   "cell_type": "markdown",
   "metadata": {},
   "source": [
    "### radius_mean"
   ]
  },
  {
   "cell_type": "code",
   "execution_count": 49,
   "metadata": {},
   "outputs": [
    {
     "data": {
      "text/plain": [
       "count    569.000000\n",
       "mean      14.127292\n",
       "std        3.524049\n",
       "min        6.981000\n",
       "25%       11.700000\n",
       "50%       13.370000\n",
       "75%       15.780000\n",
       "max       28.110000\n",
       "Name: radius_mean, dtype: float64"
      ]
     },
     "execution_count": 49,
     "metadata": {},
     "output_type": "execute_result"
    }
   ],
   "source": [
    "desc_radius=data.radius_mean.describe()\n",
    "desc_radius"
   ]
  },
  {
   "cell_type": "code",
   "execution_count": 61,
   "metadata": {},
   "outputs": [
    {
     "name": "stdout",
     "output_type": "stream",
     "text": [
      "Aralık değerleri: ( 5.579999999999999 , 21.9 )\n",
      "Outliers kalan veri sayısı:  14\n"
     ]
    }
   ],
   "source": [
    "Q1=desc_radius[4]\n",
    "Q3=desc_radius[6]\n",
    "IQR= Q3-Q1\n",
    "lower_bound=Q1 - 1.5*IQR\n",
    "upper_bound=Q3 + 1.5*IQR\n",
    "print(\"Aralık değerleri:\", \"(\",lower_bound, \",\", upper_bound,\")\" )\n",
    "outliers= data[(data.radius_mean < lower_bound) | (data.radius_mean > upper_bound )].radius_mean\n",
    "print(\"Outliers kalan veri sayısı: \",len(outliers))"
   ]
  },
  {
   "cell_type": "code",
   "execution_count": 36,
   "metadata": {},
   "outputs": [
    {
     "data": {
      "image/png": "[encoded data removed]",
      "text/plain": [
       "<Figure size 432x288 with 1 Axes>"
      ]
     },
     "metadata": {
      "needs_background": "light"
     },
     "output_type": "display_data"
    }
   ],
   "source": [
    " data[\"radius_mean\"].hist(bins=20);"
   ]
  },
  {
   "cell_type": "markdown",
   "metadata": {},
   "source": [
    "#### Radius_mean column'a baktığımızda mean ve median değerlerinin birbirine yakın olduğunu görüyoruz bu durumda normal dağılıma yakınsadığını ön görebiliriz, outlier değerleri IQR yöntemi ile bulunabilir."
   ]
  },
  {
   "cell_type": "markdown",
   "metadata": {},
   "source": [
    "### area_mean"
   ]
  },
  {
   "cell_type": "code",
   "execution_count": 51,
   "metadata": {},
   "outputs": [
    {
     "data": {
      "text/plain": [
       "count     569.000000\n",
       "mean      654.889104\n",
       "std       351.914129\n",
       "min       143.500000\n",
       "25%       420.300000\n",
       "50%       551.100000\n",
       "75%       782.700000\n",
       "max      2501.000000\n",
       "Name: area_mean, dtype: float64"
      ]
     },
     "execution_count": 51,
     "metadata": {},
     "output_type": "execute_result"
    }
   ],
   "source": [
    "desc_area=data.area_mean.describe()\n",
    "desc_area"
   ]
  },
  {
   "cell_type": "code",
   "execution_count": 62,
   "metadata": {},
   "outputs": [
    {
     "name": "stdout",
     "output_type": "stream",
     "text": [
      "Aralık değerleri: ( -123.30000000000001 , 1326.3000000000002 )\n",
      "Outliers kalan veri sayısı:  25\n"
     ]
    }
   ],
   "source": [
    "Q1=desc_area[4]\n",
    "Q3=desc_area[6]\n",
    "IQR= Q3-Q1\n",
    "lower_bound=Q1 - 1.5*IQR\n",
    "upper_bound=Q3 + 1.5*IQR\n",
    "print(\"Aralık değerleri:\", \"(\",lower_bound, \",\", upper_bound,\")\" )\n",
    "outliers= data[(data.area_mean < lower_bound) | (data.area_mean > upper_bound )].area_mean\n",
    "print(\"Outliers kalan veri sayısı: \",len(outliers))"
   ]
  },
  {
   "cell_type": "code",
   "execution_count": 53,
   "metadata": {},
   "outputs": [
    {
     "data": {
      "image/png": "[encoded data removed]",
      "text/plain": [
       "<Figure size 432x288 with 1 Axes>"
      ]
     },
     "metadata": {
      "needs_background": "light"
     },
     "output_type": "display_data"
    }
   ],
   "source": [
    " data[\"area_mean\"].hist(bins=20);"
   ]
  },
  {
   "cell_type": "markdown",
   "metadata": {},
   "source": [
    "#### Area_mean column'a baktığımızda ise mean ve median değerlerine göre normal dağılımadığını öngörüyoruz, IQR yöntemi ile hesapladığımız outlier değerlerinin bazıları veri setine dahil olması gereken değerlerdir."
   ]
  },
  {
   "cell_type": "markdown",
   "metadata": {},
   "source": [
    "### compactness_mean\n"
   ]
  },
  {
   "cell_type": "code",
   "execution_count": 64,
   "metadata": {},
   "outputs": [
    {
     "data": {
      "text/plain": [
       "count    569.000000\n",
       "mean       0.104341\n",
       "std        0.052813\n",
       "min        0.019380\n",
       "25%        0.064920\n",
       "50%        0.092630\n",
       "75%        0.130400\n",
       "max        0.345400\n",
       "Name: compactness_mean, dtype: float64"
      ]
     },
     "execution_count": 64,
     "metadata": {},
     "output_type": "execute_result"
    }
   ],
   "source": [
    "desc_compactness=data.compactness_mean.describe()\n",
    "desc_compactness"
   ]
  },
  {
   "cell_type": "code",
   "execution_count": 65,
   "metadata": {},
   "outputs": [
    {
     "name": "stdout",
     "output_type": "stream",
     "text": [
      "Aralık değerleri: ( -0.03329999999999997 , 0.22861999999999996 )\n",
      "Outliers kalan veri sayısı:  16\n"
     ]
    }
   ],
   "source": [
    "Q1=desc_compactness[4]\n",
    "Q3=desc_compactness[6]\n",
    "IQR= Q3-Q1\n",
    "lower_bound=Q1 - 1.5*IQR\n",
    "upper_bound=Q3 + 1.5*IQR\n",
    "print(\"Aralık değerleri:\", \"(\",lower_bound, \",\", upper_bound,\")\" )\n",
    "outliers= data[(data.compactness_mean < lower_bound) | (data.compactness_mean > upper_bound )].compactness_mean\n",
    "print(\"Outliers kalan veri sayısı: \",len(outliers))"
   ]
  },
  {
   "cell_type": "code",
   "execution_count": 38,
   "metadata": {},
   "outputs": [
    {
     "data": {
      "image/png": "[encoded data removed]",
      "text/plain": [
       "<Figure size 432x288 with 1 Axes>"
      ]
     },
     "metadata": {
      "needs_background": "light"
     },
     "output_type": "display_data"
    }
   ],
   "source": [
    " data[\"compactness_mean\"].hist(bins=20);"
   ]
  },
  {
   "cell_type": "markdown",
   "metadata": {},
   "source": [
    "#### Compactness_mean column'a baktığımızda mean ve median değerlerine göre normal dağılıma yakınsadığını ön görebiliriz, ancak  IQR yöntemi ile bulduğumuz  lower bound değeri nedeniyle outlier olduğu halde veri setine dahil edilen değerler vardır."
   ]
  },
  {
   "cell_type": "markdown",
   "metadata": {},
   "source": [
    "### 3-) Ekli data üzerindeki aşağıda yer alan kolonların birbirleriyle olan korelasyonlarını, covaryanslarını, Pearson Correlation Coefficientlarını, Spearman Rank Coefficientlarını ve Effect Size'larını bularak sözel ve karşılaştırmalı olarak yorumlayalım."
   ]
  },
  {
   "cell_type": "markdown",
   "metadata": {},
   "source": [
    "### Korelasyon"
   ]
  },
  {
   "cell_type": "code",
   "execution_count": 89,
   "metadata": {},
   "outputs": [],
   "source": [
    "corr = np.round(data.corr(),2)"
   ]
  },
  {
   "cell_type": "code",
   "execution_count": 97,
   "metadata": {},
   "outputs": [
    {
     "data": {
      "text/html": [
       "<div>\n",
       "<style scoped>\n",
       "    .dataframe tbody tr th:only-of-type {\n",
       "        vertical-align: middle;\n",
       "    }\n",
       "\n",
       "    .dataframe tbody tr th {\n",
       "        vertical-align: top;\n",
       "    }\n",
       "\n",
       "    .dataframe thead th {\n",
       "        text-align: right;\n",
       "    }\n",
       "</style>\n",
       "<table border=\"1\" class=\"dataframe\">\n",
       "  <thead>\n",
       "    <tr style=\"text-align: right;\">\n",
       "      <th></th>\n",
       "      <th>area_mean</th>\n",
       "    </tr>\n",
       "  </thead>\n",
       "  <tbody>\n",
       "    <tr>\n",
       "      <th>radius_mean</th>\n",
       "      <td>0.99</td>\n",
       "    </tr>\n",
       "  </tbody>\n",
       "</table>\n",
       "</div>"
      ],
      "text/plain": [
       "             area_mean\n",
       "radius_mean       0.99"
      ]
     },
     "execution_count": 97,
     "metadata": {},
     "output_type": "execute_result"
    }
   ],
   "source": [
    "# area_mean ile radius_mean korelasyonu\n",
    "corr[[\"area_mean\"]][0:1]"
   ]
  },
  {
   "cell_type": "markdown",
   "metadata": {},
   "source": [
    "#### area_mean ile radius_mean arasında çok kuvvetli pozitif doğrusal ilişki var"
   ]
  },
  {
   "cell_type": "code",
   "execution_count": 99,
   "metadata": {},
   "outputs": [
    {
     "data": {
      "text/html": [
       "<div>\n",
       "<style scoped>\n",
       "    .dataframe tbody tr th:only-of-type {\n",
       "        vertical-align: middle;\n",
       "    }\n",
       "\n",
       "    .dataframe tbody tr th {\n",
       "        vertical-align: top;\n",
       "    }\n",
       "\n",
       "    .dataframe thead th {\n",
       "        text-align: right;\n",
       "    }\n",
       "</style>\n",
       "<table border=\"1\" class=\"dataframe\">\n",
       "  <thead>\n",
       "    <tr style=\"text-align: right;\">\n",
       "      <th></th>\n",
       "      <th>area_mean</th>\n",
       "    </tr>\n",
       "  </thead>\n",
       "  <tbody>\n",
       "    <tr>\n",
       "      <th>compactness_mean</th>\n",
       "      <td>0.5</td>\n",
       "    </tr>\n",
       "  </tbody>\n",
       "</table>\n",
       "</div>"
      ],
      "text/plain": [
       "                  area_mean\n",
       "compactness_mean        0.5"
      ]
     },
     "execution_count": 99,
     "metadata": {},
     "output_type": "execute_result"
    }
   ],
   "source": [
    "# area_mean ile compactness_mean korelasyonu\n",
    "corr[[\"area_mean\"]][5:6]"
   ]
  },
  {
   "cell_type": "markdown",
   "metadata": {},
   "source": [
    "#### area_mean ile compactness_mean arasında orta kuvvetli pozitif doğrusal ilişki var"
   ]
  },
  {
   "cell_type": "code",
   "execution_count": 102,
   "metadata": {},
   "outputs": [
    {
     "data": {
      "text/html": [
       "<div>\n",
       "<style scoped>\n",
       "    .dataframe tbody tr th:only-of-type {\n",
       "        vertical-align: middle;\n",
       "    }\n",
       "\n",
       "    .dataframe tbody tr th {\n",
       "        vertical-align: top;\n",
       "    }\n",
       "\n",
       "    .dataframe thead th {\n",
       "        text-align: right;\n",
       "    }\n",
       "</style>\n",
       "<table border=\"1\" class=\"dataframe\">\n",
       "  <thead>\n",
       "    <tr style=\"text-align: right;\">\n",
       "      <th></th>\n",
       "      <th>compactness_mean</th>\n",
       "    </tr>\n",
       "  </thead>\n",
       "  <tbody>\n",
       "    <tr>\n",
       "      <th>radius_mean</th>\n",
       "      <td>0.51</td>\n",
       "    </tr>\n",
       "  </tbody>\n",
       "</table>\n",
       "</div>"
      ],
      "text/plain": [
       "             compactness_mean\n",
       "radius_mean              0.51"
      ]
     },
     "execution_count": 102,
     "metadata": {},
     "output_type": "execute_result"
    }
   ],
   "source": [
    "# compactness_mean ile radius_mean korelasyonu\n",
    "corr[[\"compactness_mean\"]][0:1]"
   ]
  },
  {
   "cell_type": "markdown",
   "metadata": {},
   "source": [
    "#### compactness_mean ile radius_mean arasında orta kuvvetli pozitif doğrusal ilişki var"
   ]
  },
  {
   "cell_type": "markdown",
   "metadata": {},
   "source": [
    "### Kovaryans"
   ]
  },
  {
   "cell_type": "code",
   "execution_count": 113,
   "metadata": {},
   "outputs": [
    {
     "data": {
      "text/html": [
       "<div>\n",
       "<style scoped>\n",
       "    .dataframe tbody tr th:only-of-type {\n",
       "        vertical-align: middle;\n",
       "    }\n",
       "\n",
       "    .dataframe tbody tr th {\n",
       "        vertical-align: top;\n",
       "    }\n",
       "\n",
       "    .dataframe thead th {\n",
       "        text-align: right;\n",
       "    }\n",
       "</style>\n",
       "<table border=\"1\" class=\"dataframe\">\n",
       "  <thead>\n",
       "    <tr style=\"text-align: right;\">\n",
       "      <th></th>\n",
       "      <th>radius_mean</th>\n",
       "      <th>area_mean</th>\n",
       "      <th>compactness_mean</th>\n",
       "    </tr>\n",
       "  </thead>\n",
       "  <tbody>\n",
       "    <tr>\n",
       "      <th>radius_mean</th>\n",
       "      <td>12.418920</td>\n",
       "      <td>1224.483409</td>\n",
       "      <td>0.094197</td>\n",
       "    </tr>\n",
       "    <tr>\n",
       "      <th>area_mean</th>\n",
       "      <td>1224.483409</td>\n",
       "      <td>123843.554318</td>\n",
       "      <td>9.264931</td>\n",
       "    </tr>\n",
       "    <tr>\n",
       "      <th>compactness_mean</th>\n",
       "      <td>0.094197</td>\n",
       "      <td>9.264931</td>\n",
       "      <td>0.002789</td>\n",
       "    </tr>\n",
       "  </tbody>\n",
       "</table>\n",
       "</div>"
      ],
      "text/plain": [
       "                  radius_mean      area_mean  compactness_mean\n",
       "radius_mean         12.418920    1224.483409          0.094197\n",
       "area_mean         1224.483409  123843.554318          9.264931\n",
       "compactness_mean     0.094197       9.264931          0.002789"
      ]
     },
     "execution_count": 113,
     "metadata": {},
     "output_type": "execute_result"
    }
   ],
   "source": [
    "df = data.loc[:,[\"radius_mean\", \"area_mean\", \"compactness_mean\"]]\n",
    "df.cov()"
   ]
  },
  {
   "cell_type": "code",
   "execution_count": null,
   "metadata": {},
   "outputs": [],
   "source": [
    "#area_mean ile radius_mean arasında aynı yönde ilişki var (biri artarken diğeride artıyor)\n",
    "#area_mean ile compactness_mean arasında aynı yönde ilişki var \n",
    "#compactness_mean ile radius_mean arasında aynı yönde ilişki var "
   ]
  },
  {
   "cell_type": "markdown",
   "metadata": {},
   "source": [
    "### Pearson Correlation Coefficient"
   ]
  },
  {
   "cell_type": "code",
   "execution_count": 122,
   "metadata": {},
   "outputs": [],
   "source": [
    "from scipy.stats import pearsonr"
   ]
  },
  {
   "cell_type": "code",
   "execution_count": 131,
   "metadata": {},
   "outputs": [],
   "source": [
    "list1 = data['radius_mean']\n",
    "list2 = data['area_mean']\n",
    "list3 = data['compactness_mean']"
   ]
  },
  {
   "cell_type": "code",
   "execution_count": 128,
   "metadata": {},
   "outputs": [
    {
     "name": "stdout",
     "output_type": "stream",
     "text": [
      "Pearsons correlation: 0.9873571700566124\n"
     ]
    }
   ],
   "source": [
    "corr, _ = pearsonr(list1, list2)\n",
    "print('Pearsons correlation:', corr)"
   ]
  },
  {
   "cell_type": "code",
   "execution_count": 132,
   "metadata": {},
   "outputs": [
    {
     "name": "stdout",
     "output_type": "stream",
     "text": [
      "Pearsons correlation: 0.5061235775263635\n"
     ]
    }
   ],
   "source": [
    "corr, _ = pearsonr(list1, list3)\n",
    "print('Pearsons correlation:', corr)"
   ]
  },
  {
   "cell_type": "code",
   "execution_count": 133,
   "metadata": {},
   "outputs": [
    {
     "name": "stdout",
     "output_type": "stream",
     "text": [
      "Pearsons correlation: 0.49850168215241175\n"
     ]
    }
   ],
   "source": [
    "corr, _ = pearsonr(list2, list3)\n",
    "print('Pearsons correlation:', corr)"
   ]
  },
  {
   "cell_type": "code",
   "execution_count": null,
   "metadata": {},
   "outputs": [],
   "source": [
    "#area_mean ile radius_mean arasında yüksek korelasyonlu pozitif ilişki var (biri artarken diğeride artıyor)\n",
    "#area_mean ile compactness_mean arasında pozitif ilişki var \n",
    "#compactness_mean ile radius_mean arasında pozitif ilişki var"
   ]
  },
  {
   "cell_type": "markdown",
   "metadata": {},
   "source": [
    "### Spearman Rank Coefficient\n"
   ]
  },
  {
   "cell_type": "code",
   "execution_count": 134,
   "metadata": {},
   "outputs": [],
   "source": [
    "from scipy.stats import spearmanr"
   ]
  },
  {
   "cell_type": "code",
   "execution_count": 135,
   "metadata": {},
   "outputs": [
    {
     "name": "stdout",
     "output_type": "stream",
     "text": [
      "Spearman Rank correlation coefficient 0.9996020278067481\n",
      "p-value of Spearman Rank correlation coefficient 0.0\n"
     ]
    }
   ],
   "source": [
    "print(\"Spearman Rank correlation coefficient\", spearmanr(data['radius_mean'], data['area_mean'])[0])\n",
    "print(\"p-value of Spearman Rank correlation coefficient\", spearmanr(data['radius_mean'], data['area_mean'])[1]) "
   ]
  },
  {
   "cell_type": "code",
   "execution_count": 136,
   "metadata": {},
   "outputs": [
    {
     "name": "stdout",
     "output_type": "stream",
     "text": [
      "Spearman Rank correlation coefficient 0.49757760995795647\n",
      "p-value of Spearman Rank correlation coefficient 6.334924144221496e-37\n"
     ]
    }
   ],
   "source": [
    "print(\"Spearman Rank correlation coefficient\", spearmanr(data['radius_mean'], data['compactness_mean'])[0])\n",
    "print(\"p-value of Spearman Rank correlation coefficient\", spearmanr(data['radius_mean'], data['compactness_mean'])[1]) "
   ]
  },
  {
   "cell_type": "code",
   "execution_count": 137,
   "metadata": {},
   "outputs": [
    {
     "name": "stdout",
     "output_type": "stream",
     "text": [
      "Spearman Rank correlation coefficient 0.4889883974982949\n",
      "p-value of Spearman Rank correlation coefficient 1.5419515156000542e-35\n"
     ]
    }
   ],
   "source": [
    "print(\"Spearman Rank correlation coefficient\", spearmanr(data['compactness_mean'], data['area_mean'])[0])\n",
    "print(\"p-value of Spearman Rank correlation coefficient\", spearmanr(data['compactness_mean'], data['area_mean'])[1]) "
   ]
  },
  {
   "cell_type": "code",
   "execution_count": null,
   "metadata": {},
   "outputs": [],
   "source": [
    "##area_mean ile radius_mean arasında yüksek pozitif ilişki var \n",
    "#compactness_mean ile radius_mean değerlerinin p-value değeri 0,05'ten küçük olmadığı için korelasyon istatistiksel olarak anlamlı değildir.\n",
    "#area_mean ile compactness_mean değerlerinin p-value değeri 0,05'ten küçük olmadığı için korelasyon istatistiksel olarak anlamlı değildir."
   ]
  },
  {
   "cell_type": "markdown",
   "metadata": {},
   "source": [
    "### Effect size"
   ]
  },
  {
   "cell_type": "code",
   "execution_count": 17,
   "metadata": {},
   "outputs": [],
   "source": [
    "import statistics"
   ]
  },
  {
   "cell_type": "code",
   "execution_count": 22,
   "metadata": {},
   "outputs": [],
   "source": [
    "def effsize(x,y):\n",
    "    mean=x.mean() - y.mean()\n",
    "    len1=len(x)\n",
    "    len2=len(y)\n",
    "    len_=len1+len2-2\n",
    "    s=np.sqrt((((len1-1)*(np.std(x, ddof=1) ** 2))+((len2-1)*(statistics.stdev(y))))/len_)\n",
    "    d=mean/s\n",
    "    return d"
   ]
  },
  {
   "cell_type": "code",
   "execution_count": 25,
   "metadata": {},
   "outputs": [
    {
     "name": "stdout",
     "output_type": "stream",
     "text": [
      "area_mean, radius_mean effect size: 2.5749496168517854\n",
      "area_mean, compactness_mean effect size: 2.631338777337225\n",
      "compactness_mean, radius_mean effect size: -10.559944852910421\n"
     ]
    }
   ],
   "source": [
    "print(\"area_mean, radius_mean effect size:\", effsize(data[\"area_mean\"],data[\"radius_mean\"]))\n",
    "print(\"area_mean, compactness_mean effect size:\", effsize(data[\"area_mean\"],data[\"compactness_mean\"]))\n",
    "print(\"compactness_mean, radius_mean effect size:\", effsize(data[\"compactness_mean\"],data[\"radius_mean\"]))"
   ]
  },
  {
   "cell_type": "markdown",
   "metadata": {},
   "source": [
    "### 4-) Bayes Teoreminin gerçek hayatta karşımıza çıkan ve kullanılan örneklerinden 5 tane bulalım."
   ]
  },
  {
   "cell_type": "markdown",
   "metadata": {},
   "source": [
    "##### Bir araştırmaya göre her 63 çocuktan 1 tanesi, yetişkinlikte ortaya çıkan belli bir hastalığa yakalanmakta ve tam güvenilir olmamasına rağmen yapılan test sonuçlarına göre, hastalıklı bir çocuğun testi %80 pozitif, sağlıklı bir çocuğun testi ise%10 pozitif sonuç vermektedir. Bu bilgilere göre test sonucu pozitif olan bir çocuğun gerçekten hasta olma olasılığı nedir?\n",
    "###### P(A) : Çocuğun hasta olması olasılığı = 1/63\n",
    "###### P(B) : Testin pozitif çıkması olasılığı = 1/63 * 0.80 + 64/63 * 0.10 = 7/63\n",
    "###### P(B|A) : Hastalıklı çocuğun testinin pozitif çıkma olasılığı = 0.80\n",
    "###### P(A|B) : Pozitif çıkan testin hastalık çıkma olasılığı ( sorulan bu )\n",
    "###### P(A|B)=P(B|A)*P(A)/P(B) => (0.80 * 1/63) / (7/63) = 0.11 = %11 bulunur."
   ]
  },
  {
   "cell_type": "markdown",
   "metadata": {},
   "source": [
    "#### Ali kaşındığını söylüyor. Kedi alerjisi için bir test var, ancak bu test her zaman doğru değil: Gerçekten alerjisi olan insanlar için, testin “Evet” sonucu vermesi %80 oranında. Alerjisi olmayan insanlar için, testin “Evet” sonucu vermesi %10 oranında (“false positive “). Nüfusun %1’inde alerji varsa ve test “Evet” çıkıyorsa, Ali’nin gerçekten alerji olma olasılığı nedir?\n",
    "##### A: Alerji, B: Testin Evet çıkması\n",
    "##### P(A) : Alerji olasılığı = 0.01\n",
    "##### P(B) : Testin evet çıkma olasılığı =0.01*0.80 + 0.99*0.10=0.107\n",
    "##### P(B|A) : Alerji olması durumunda testin evet çıkma olasılığı = 0.80\n",
    "##### P(A|B) : Testin evet çıkması durumunda alerji olasılığı = ( sorulan )\n",
    "##### P(A|B) = 0.01/0.80/0.107=0.075= %7"
   ]
  },
  {
   "cell_type": "markdown",
   "metadata": {},
   "source": [
    "#### Bir danışmanlık şirketin üyeleri, 1. işletmeden %60 , 2. işletmeden %30 ve 3.işletmeden %10 oranında olmak üzere üç işletmeden araba kiralamaktadırlar. 1işletmeden gelen araçların %9’u, 2. işetmeden gelen araçların %20’si ve 3.işletmeden gelen araçların %6’sı bakım gerektiriyorsa,\n",
    "#### a) Şirkete kiralanan bir aracın bakım gerektirme olasılığı nedir?\n",
    "#### b) Bakım gerektiren aracın 2. işletmeden gelmiş olma olasılığı nedir?"
   ]
  },
  {
   "cell_type": "markdown",
   "metadata": {},
   "source": [
    "B: Bir arabanın bakım gerektirmesi,\n",
    "Ai: Arabanın 1, 2 ya da 3. işletmeden gelme i= 1, 2, 3 olayları olsun. \n",
    "P(A1)=0.60\n",
    "P(A2)=0.30\n",
    "P(A3)=0.10\n",
    "P(B|A1)=0.09 , P(B|A2)=0.20 , P(B|A3)=0.06\n",
    "\n",
    "a) P(B)→arabanın bakım gerektirme olasılığı soruluyor. Toplam olasılıktan\n",
    "yararlanılarak bulunur.\n",
    "P(B) = (P(B|A1)*P(A1) + P(B|A2)*P(A2) + P(B|A3)*P(A3))\n",
    "(0.60)*(0.09)+(0.30)*(0.20)+(0.10)*(0.06)=0.12\n",
    "Bu şirkette kiralanan araçların %12’sini bakım gerektirecektir. \n",
    "        \n",
    "b) Danışmanlık şirketinin kiraladığı araba bakım gerektiriyorsa bu arabanın 2.\n",
    "işletmeden gelmiş olma olasılığı Bayes teoreminden yararlanılarak bulunabilir. \n",
    "\n",
    "P(A|B)= P(B|A2)*P(A2)/ (P(B|A1)*P(A1) + P(B|A2)*P(A2) + P(B|A3)*P(A3))= 0.30*0.20/0.12=0.50\n",
    "danışmanlık şirketinin kiraladığı arabalardan yalnızca%30’nun 2. işletmeden gelmesine\n",
    "karşın, bakım gerektiren arabaların yarısı (%50 si) 2. işletmeden gelmektedir. "
   ]
  },
  {
   "cell_type": "markdown",
   "metadata": {},
   "source": [
    "#### Üç torbada beyaz (B) ve kırmızı (K) toplar bulunmaktadır. I. Torbada; 1beyaz, 3 kırmızı top, II. Torbada; 2 beyaz, 2 kırmızı, III. Torbada; 3 beyaz, 1 kırımızı topvardır. Rasgele seçilen bir torbadan çekilen top beyaz ise bu topun I. Torbadan çekilmişolması olasılığı nedir?\n",
    "B: Çekilen topun beyaz olması\n",
    "Ai: Seçilen torbanın I., II, veya III. Torba olması olayları olsun. İ=1, 2, 3 \n",
    "\n",
    "P(A1)=P(A2)=P(A3)=1/3\n",
    "P(A|B)= P(B|A1)P(A1)/ (P(B|A1)P(A1) + P(B|A2)P(A2) + P(B|A3)P(A3))= %17 \n",
    "Çekilen beyaz topun, I. Torbadan gelmesi olasılığı %17’dir. "
   ]
  },
  {
   "cell_type": "markdown",
   "metadata": {},
   "source": [
    "### 5-) Poisson, Normal , Gamma, Weilbull ve Logaritmik dağılımların benzer ve farklı yönlerini bir tablo halinde çıkaralım."
   ]
  },
  {
   "attachments": {
    "da%C4%9F%C4%B1l%C4%B1mlar.png": {
     "image/png": "[encoded data removed]"
    }
   },
   "cell_type": "markdown",
   "metadata": {},
   "source": [
    "![da%C4%9F%C4%B1l%C4%B1mlar.png](attachment:da%C4%9F%C4%B1l%C4%B1mlar.png)"
   ]
  },
  {
   "cell_type": "code",
   "execution_count": null,
   "metadata": {},
   "outputs": [],
   "source": []
  }
 ],
 "metadata": {
  "kernelspec": {
   "display_name": "Python 3",
   "language": "python",
   "name": "python3"
  },
  "language_info": {
   "codemirror_mode": {
    "name": "ipython",
    "version": 3
   },
   "file_extension": ".py",
   "mimetype": "text/x-python",
   "name": "python",
   "nbconvert_exporter": "python",
   "pygments_lexer": "ipython3",
   "version": "3.8.5"
  }
 },
 "nbformat": 4,
 "nbformat_minor": 4
}
